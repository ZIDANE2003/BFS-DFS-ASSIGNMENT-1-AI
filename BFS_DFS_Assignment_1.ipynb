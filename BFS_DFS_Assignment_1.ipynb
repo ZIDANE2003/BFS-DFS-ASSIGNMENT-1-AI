{
  "nbformat": 4,
  "nbformat_minor": 0,
  "metadata": {
    "colab": {
      "name": "BFS DFS Assignment 1",
      "provenance": [],
      "authorship_tag": "ABX9TyN4gPs9tgs5SgKg+tFGd8n9",
      "include_colab_link": true
    },
    "kernelspec": {
      "name": "python3",
      "display_name": "Python 3"
    },
    "language_info": {
      "name": "python"
    }
  },
  "cells": [
    {
      "cell_type": "markdown",
      "metadata": {
        "id": "view-in-github",
        "colab_type": "text"
      },
      "source": [
        "<a href=\"https://colab.research.google.com/github/ZIDANE2003/BFS-DFS-ASSIGNMENT-1-AI/blob/main/BFS_DFS_Assignment_1.ipynb\" target=\"_parent\"><img src=\"https://colab.research.google.com/assets/colab-badge.svg\" alt=\"Open In Colab\"/></a>"
      ]
    },
    {
      "cell_type": "code",
      "source": [
        "graph = {\n",
        "     0: [1, 3], 1: [0, 2, 3], 2: [4, 1, 5], 3: [4, 0, 1], 4: [2, 3, 5], 5: [4, 2], 6: []\n",
        "  }\n",
        "\n",
        "visited = [] \n",
        "queue = []     \n",
        "\n",
        "def bfs_graph(visited, graph, node): \n",
        "  visited.append(node)\n",
        "  queue.append(node)\n",
        "\n",
        "  while queue:          \n",
        "    n = queue.pop(0) \n",
        "    print (n, end = \" \") \n",
        "\n",
        "    for neighbour in graph[n]:\n",
        "      if neighbour not in visited:\n",
        "        visited.append(neighbour)\n",
        "        queue.append(neighbour)\n",
        "\n",
        "\n",
        "print(\"Breadth First GRAPH is: \")\n",
        "bfs_graph(visited, graph, 0)    \n"
      ],
      "metadata": {
        "colab": {
          "base_uri": "https://localhost:8080/"
        },
        "id": "VndFe0PDRyNn",
        "outputId": "1f4857eb-2662-496c-cd93-e4389f6fec95"
      },
      "execution_count": 21,
      "outputs": [
        {
          "output_type": "stream",
          "name": "stdout",
          "text": [
            "Breadth First GRAPH is: \n",
            "0 1 3 2 4 5 "
          ]
        }
      ]
    }
  ]
}