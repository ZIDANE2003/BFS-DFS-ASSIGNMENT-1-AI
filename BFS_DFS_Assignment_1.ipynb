{
  "nbformat": 4,
  "nbformat_minor": 0,
  "metadata": {
    "colab": {
      "name": "BFS DFS Assignment 1",
      "provenance": [],
      "authorship_tag": "ABX9TyMR5iF6uxuQGNsYxo/K7Kq8",
      "include_colab_link": true
    },
    "kernelspec": {
      "name": "python3",
      "display_name": "Python 3"
    },
    "language_info": {
      "name": "python"
    }
  },
  "cells": [
    {
      "cell_type": "markdown",
      "metadata": {
        "id": "view-in-github",
        "colab_type": "text"
      },
      "source": [
        "<a href=\"https://colab.research.google.com/github/ZIDANE2003/BFS-DFS-ASSIGNMENT-1-AI/blob/main/BFS_DFS_Assignment_1.ipynb\" target=\"_parent\"><img src=\"https://colab.research.google.com/assets/colab-badge.svg\" alt=\"Open In Colab\"/></a>"
      ]
    },
    {
      "cell_type": "code",
      "source": [
        "#BFS\n",
        "\n",
        "graph = {\n",
        "     0: [1, 3], 1: [0, 2, 3], 2: [4, 1, 5], 3: [4, 0, 1], 4: [2, 3, 5], 5: [4, 2], 6: []\n",
        "  }\n",
        "\n",
        "visited = [] \n",
        "queue = []     \n",
        "\n",
        "def bfs_graph(visited, graph, node): \n",
        "  visited.append(node)\n",
        "  queue.append(node)\n",
        "\n",
        "  while queue:          \n",
        "    n = queue.pop(0) \n",
        "    print (n, end = \" \") \n",
        "\n",
        "    for neighbour in graph[n]:\n",
        "      if neighbour not in visited:\n",
        "        visited.append(neighbour)\n",
        "        queue.append(neighbour)\n",
        "\n",
        "\n",
        "print(\"Breadth First Search GRAPH is: \")\n",
        "bfs_graph(visited, graph, 0)    \n",
        "\n",
        "\n",
        "\n",
        "\n",
        "\n",
        "\n",
        "  \n",
        "\n"
      ],
      "metadata": {
        "colab": {
          "base_uri": "https://localhost:8080/"
        },
        "id": "VndFe0PDRyNn",
        "outputId": "bd69ca23-e1ad-465a-e213-08e34ce520d3"
      },
      "execution_count": 6,
      "outputs": [
        {
          "output_type": "stream",
          "name": "stdout",
          "text": [
            "Breadth First Search GRAPH is: \n",
            "0 1 3 2 4 5 "
          ]
        }
      ]
    },
    {
      "cell_type": "code",
      "source": [
        "#DFS\n",
        "\n",
        "\n",
        "graph = {\n",
        "           0: [1, 3], 1: [0, 2, 3], 2: [4, 1, 5], 3: [4, 0, 1], 4: [2, 3, 5], 5: [4, 2], 6: []\n",
        "         \n",
        "           #'A': ['B','C','D'], 'B': ['E'], 'C': ['D','E'], 'D': [], 'E': []\n",
        "       }\n",
        "\n",
        "visited=set()\n",
        "\n",
        "def dfs_graph(visited, graph, node): \n",
        "  if node not in visited:\n",
        "    print(node, end=\" \")\n",
        "    visited.add(node)\n",
        "    for neighbour in graph[node]:\n",
        "\n",
        "      dfs_graph(visited, graph, neighbour)\n",
        "print(\"Depth First Search GRAPH is: \")\n",
        "dfs_graph(visited, graph, 0)\n"
      ],
      "metadata": {
        "colab": {
          "base_uri": "https://localhost:8080/"
        },
        "id": "zBlhDYABxeF1",
        "outputId": "e5ea593e-77f6-4760-a7ce-d51ea64ef680"
      },
      "execution_count": 7,
      "outputs": [
        {
          "output_type": "stream",
          "name": "stdout",
          "text": [
            "Depth First Search GRAPH is: \n",
            "0 1 2 4 3 5 "
          ]
        }
      ]
    }
  ]
}